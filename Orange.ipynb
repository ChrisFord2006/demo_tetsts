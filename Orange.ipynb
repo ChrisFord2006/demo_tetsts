{
    "cells": [
        {
            "cell_type": "markdown",
            "metadata": {},
            "source": "Test Program: using a python while loop to match indicies with letters for the word 'orange' backwards"
        },
        {
            "cell_type": "code",
            "execution_count": 1,
            "metadata": {},
            "outputs": [
                {
                    "name": "stdout",
                    "output_type": "stream",
                    "text": "5 e\n4 g\n3 n\n2 a\n1 r\n0 o\n"
                }
            ],
            "source": "# Exercise 1 Chpt 6 Write a while loop that starts at the last character in the\n# string and works its way backwards to the first character in the string,\n# printing each letter on a separate line, except backwards.\nfruit = 'orange'\nindex = 5\nwhile index < len(fruit):\n    letter = fruit[index]\n    print(index, letter)\n    if index == 0:\n       break\n    index = index - 1\n# couldn't originally get this program to work since the directory pathway was wrong\n# and my changes were being made in the file in the wrong folder\n"
        },
        {
            "cell_type": "markdown",
            "metadata": {},
            "source": "This worked"
        },
        {
            "cell_type": "code",
            "execution_count": null,
            "metadata": {},
            "outputs": [],
            "source": ""
        }
    ],
    "metadata": {
        "kernelspec": {
            "display_name": "Python 3.7",
            "language": "python",
            "name": "python3"
        },
        "language_info": {
            "codemirror_mode": {
                "name": "ipython",
                "version": 3
            },
            "file_extension": ".py",
            "mimetype": "text/x-python",
            "name": "python",
            "nbconvert_exporter": "python",
            "pygments_lexer": "ipython3",
            "version": "3.7.9"
        }
    },
    "nbformat": 4,
    "nbformat_minor": 1
}